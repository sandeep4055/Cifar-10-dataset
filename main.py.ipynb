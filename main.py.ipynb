{
 "cells": [
  {
   "cell_type": "markdown",
   "id": "0f739ac8",
   "metadata": {},
   "source": [
    "# Comparing ANN with CNN using cifar 10 dataset"
   ]
  },
  {
   "cell_type": "markdown",
   "id": "67bb5450",
   "metadata": {},
   "source": [
    "# Cifar 10 dataset"
   ]
  },
  {
   "cell_type": "markdown",
   "id": "e15f9747",
   "metadata": {},
   "source": [
    "The CIFAR-10 dataset consists of 60000 32x32 colour images in 10 classes, with 6000 images per class. There are 50000 training images and 10000 test images.\n",
    "\n",
    "The dataset is divided into five training batches and one test batch, each with 10000 images. The test batch contains exactly 1000 randomly-selected images from each class. The training batches contain the remaining images in random order, but some training batches may contain more images from one class than another. Between them, the training batches contain exactly 5000 images from each class.\n",
    "\n",
    "Here are the classes in the dataset, as well as 10 random images from each:\n",
    "#### Image \n",
    "![](image.png)"
   ]
  },
  {
   "cell_type": "code",
   "execution_count": 1,
   "id": "aa000933",
   "metadata": {},
   "outputs": [],
   "source": [
    "import tensorflow as tf\n",
    "from tensorflow.keras import datasets,layers,models\n",
    "import matplotlib.pyplot as plt\n",
    "import numpy as np"
   ]
  },
  {
   "cell_type": "code",
   "execution_count": 2,
   "id": "82e03fac",
   "metadata": {},
   "outputs": [
    {
     "name": "stdout",
     "output_type": "stream",
     "text": [
      "Downloading data from https://www.cs.toronto.edu/~kriz/cifar-10-python.tar.gz\n",
      "170500096/170498071 [==============================] - 177s 1us/step\n"
     ]
    }
   ],
   "source": [
    "#loading dataset and storing in variables\n",
    "(x_train,y_train),(x_test,y_test) = datasets.cifar10.load_data()"
   ]
  },
  {
   "cell_type": "code",
   "execution_count": 6,
   "id": "e9525d45",
   "metadata": {},
   "outputs": [
    {
     "data": {
      "text/plain": [
       "((50000, 32, 32, 3), (10000, 32, 32, 3), (50000, 1), (10000, 1))"
      ]
     },
     "execution_count": 6,
     "metadata": {},
     "output_type": "execute_result"
    }
   ],
   "source": [
    "#size of dataset\n",
    "x_train.shape ,x_test.shape,y_train.shape,y_test.shape"
   ]
  },
  {
   "cell_type": "code",
   "execution_count": 8,
   "id": "05331e0d",
   "metadata": {},
   "outputs": [],
   "source": [
    "#converting 2d array to 1d array\n",
    "y_train = y_train.reshape(-1,)\n",
    "y_test = y_test.reshape(-1,)"
   ]
  },
  {
   "cell_type": "code",
   "execution_count": 14,
   "id": "a683f1f1",
   "metadata": {},
   "outputs": [
    {
     "data": {
      "text/plain": [
       "(array([6, 9, 9, 4, 1, 1, 2, 7, 8], dtype=uint8),\n",
       " array([3, 8, 8, ..., 5, 1, 7], dtype=uint8))"
      ]
     },
     "execution_count": 14,
     "metadata": {},
     "output_type": "execute_result"
    }
   ],
   "source": [
    "y_train[:9],y_test"
   ]
  },
  {
   "cell_type": "code",
   "execution_count": 12,
   "id": "ccb8508b",
   "metadata": {},
   "outputs": [],
   "source": [
    "#classes present in dataset\n",
    "classes = [\"airplane\",\"automobile\",\"bird\",\"cat\",\"deer\",\"dog\",\"frog\",\"horse\",\"ship\",\"truck\"]"
   ]
  },
  {
   "cell_type": "code",
   "execution_count": 13,
   "id": "195a29dc",
   "metadata": {},
   "outputs": [],
   "source": [
    "#function to plot image \n",
    "def plot_image(x, y, index):\n",
    "    plt.figure(figsize = (15,2))\n",
    "    plt.imshow(x[index])\n",
    "    plt.xlabel(classes[y[index]])"
   ]
  },
  {
   "cell_type": "code",
   "execution_count": 24,
   "id": "9382c354",
   "metadata": {},
   "outputs": [
    {
     "data": {
      "image/png": "[encoded data removed]",
      "text/plain": [
       "<Figure size 1080x144 with 1 Axes>"
      ]
     },
     "metadata": {
      "needs_background": "light"
     },
     "output_type": "display_data"
    }
   ],
   "source": [
    "plot_image(x_train,y_train,1)"
   ]
  },
  {
   "cell_type": "markdown",
   "id": "0543dbc5",
   "metadata": {},
   "source": [
    "### Normalizing"
   ]
  },
  {
   "cell_type": "code",
   "execution_count": 27,
   "id": "9253ece6",
   "metadata": {},
   "outputs": [],
   "source": [
    "#it sets the input value between 0 & 1\n",
    "x_train = x_train / 255.0\n",
    "x_test = x_test / 255.0"
   ]
  },
  {
   "cell_type": "markdown",
   "id": "2321b6b3",
   "metadata": {},
   "source": [
    "## ANN Model"
   ]
  },
  {
   "cell_type": "code",
   "execution_count": 29,
   "id": "c633f2c6",
   "metadata": {},
   "outputs": [
    {
     "name": "stdout",
     "output_type": "stream",
     "text": [
      "Epoch 1/5\n",
      "1563/1563 [==============================] - 64s 40ms/step - loss: 1.8125 - accuracy: 0.3554\n",
      "Epoch 2/5\n",
      "1563/1563 [==============================] - 65s 41ms/step - loss: 1.6226 - accuracy: 0.4269\n",
      "Epoch 3/5\n",
      "1563/1563 [==============================] - 64s 41ms/step - loss: 1.5400 - accuracy: 0.4588\n",
      "Epoch 4/5\n",
      "1563/1563 [==============================] - 64s 41ms/step - loss: 1.4810 - accuracy: 0.4783\n",
      "Epoch 5/5\n",
      "1563/1563 [==============================] - 65s 42ms/step - loss: 1.4342 - accuracy: 0.4970\n"
     ]
    },
    {
     "data": {
      "text/plain": [
       "<tensorflow.python.keras.callbacks.History at 0x265c02cc5f8>"
      ]
     },
     "execution_count": 29,
     "metadata": {},
     "output_type": "execute_result"
    }
   ],
   "source": [
    "ann = models.Sequential([\n",
    "        layers.Flatten(input_shape=(32,32,3)),\n",
    "        layers.Dense(3000, activation='relu'),\n",
    "        layers.Dense(1000, activation='relu'),\n",
    "        layers.Dense(10, activation='softmax')    \n",
    "    ])\n",
    "\n",
    "ann.compile(optimizer='SGD',\n",
    "              loss='sparse_categorical_crossentropy',\n",
    "              metrics=['accuracy'])\n",
    "\n",
    "ann.fit(x_train, y_train, epochs=5)"
   ]
  },
  {
   "cell_type": "markdown",
   "id": "c9cc81e0",
   "metadata": {},
   "source": [
    "## ConfusionMatrix and Classification Report"
   ]
  },
  {
   "cell_type": "code",
   "execution_count": 36,
   "id": "ae9150c2",
   "metadata": {},
   "outputs": [
    {
     "name": "stdout",
     "output_type": "stream",
     "text": [
      "Classification Report: \n",
      "               precision    recall  f1-score   support\n",
      "\n",
      "    airplane       0.53      0.59      0.56      1000\n",
      "  automobile       0.63      0.58      0.61      1000\n",
      "        bird       0.44      0.24      0.31      1000\n",
      "         cat       0.43      0.19      0.26      1000\n",
      "        deer       0.48      0.34      0.40      1000\n",
      "         dog       0.45      0.34      0.39      1000\n",
      "        frog       0.41      0.74      0.53      1000\n",
      "       horse       0.49      0.62      0.55      1000\n",
      "        ship       0.53      0.68      0.59      1000\n",
      "       truck       0.53      0.58      0.55      1000\n",
      "\n",
      "    accuracy                           0.49     10000\n",
      "   macro avg       0.49      0.49      0.47     10000\n",
      "weighted avg       0.49      0.49      0.47     10000\n",
      "\n"
     ]
    }
   ],
   "source": [
    "from sklearn.metrics import confusion_matrix , classification_report\n",
    "import numpy as np\n",
    "y_pred = ann.predict(x_test)\n",
    "y_pred_classes = [np.argmax(element) for element in y_pred]\n",
    "\n",
    "print(\"Classification Report: \\n\", classification_report(y_test, y_pred_classes,target_names = classes))"
   ]
  },
  {
   "cell_type": "code",
   "execution_count": 38,
   "id": "b6e5d343",
   "metadata": {},
   "outputs": [
    {
     "name": "stdout",
     "output_type": "stream",
     "text": [
      "[[586  33  44   3  24  12  39  38 179  42]\n",
      " [ 46 584   3  10  11   9  28  39 105 165]\n",
      " [ 95  28 241  49 106  82 234 105  42  18]\n",
      " [ 58  29  43 186  38 179 245  98  41  83]\n",
      " [ 69  16  81  18 344  38 245 137  33  19]\n",
      " [ 33  21  54 103  58 342 183 125  42  39]\n",
      " [ 16  11  26  19  65  27 745  50  20  21]\n",
      " [ 40  14  35  31  49  47  56 624  32  72]\n",
      " [118  56  11   6  11  17  25  22 679  55]\n",
      " [ 47 138   5  12  10  15  38  43 114 578]]\n"
     ]
    }
   ],
   "source": [
    "print(confusion_matrix(y_test,y_pred_classes))"
   ]
  },
  {
   "cell_type": "markdown",
   "id": "d0ca44e6",
   "metadata": {},
   "source": [
    "## CNN Model"
   ]
  },
  {
   "cell_type": "code",
   "execution_count": 39,
   "id": "7eb0fd2c",
   "metadata": {},
   "outputs": [],
   "source": [
    "cnn = models.Sequential([\n",
    "    layers.Conv2D(filters=32, kernel_size=(3,3), activation='relu', input_shape=(32, 32, 3)),\n",
    "    layers.MaxPooling2D((2,2)),\n",
    "    \n",
    "    layers.Conv2D(filters=64, kernel_size=(3,3), activation='relu'),\n",
    "    layers.MaxPooling2D((2,2)),\n",
    "    \n",
    "    layers.Flatten(),\n",
    "    layers.Dense(64, activation='relu'),\n",
    "    layers.Dense(10, activation='softmax')\n",
    "])"
   ]
  },
  {
   "cell_type": "code",
   "execution_count": 43,
   "id": "b482aefc",
   "metadata": {},
   "outputs": [],
   "source": [
    "cnn.compile(optimizer='adam',\n",
    "              loss='sparse_categorical_crossentropy',\n",
    "              metrics=['accuracy'])"
   ]
  },
  {
   "cell_type": "code",
   "execution_count": 45,
   "id": "c38d1974",
   "metadata": {},
   "outputs": [
    {
     "name": "stdout",
     "output_type": "stream",
     "text": [
      "Epoch 1/10\n",
      "1563/1563 [==============================] - 22s 13ms/step - loss: 1.4934 - accuracy: 0.4611\n",
      "Epoch 2/10\n",
      "1563/1563 [==============================] - 21s 13ms/step - loss: 1.1524 - accuracy: 0.5958\n",
      "Epoch 3/10\n",
      "1563/1563 [==============================] - 20s 13ms/step - loss: 1.0156 - accuracy: 0.6453\n",
      "Epoch 4/10\n",
      "1563/1563 [==============================] - 20s 13ms/step - loss: 0.9296 - accuracy: 0.6798\n",
      "Epoch 5/10\n",
      "1563/1563 [==============================] - 20s 13ms/step - loss: 0.8654 - accuracy: 0.69900s - loss: 0.8\n",
      "Epoch 6/10\n",
      "1563/1563 [==============================] - 22s 14ms/step - loss: 0.8124 - accuracy: 0.7189\n",
      "Epoch 7/10\n",
      "1563/1563 [==============================] - 22s 14ms/step - loss: 0.7675 - accuracy: 0.7334\n",
      "Epoch 8/10\n",
      "1563/1563 [==============================] - 22s 14ms/step - loss: 0.7205 - accuracy: 0.7496\n",
      "Epoch 9/10\n",
      "1563/1563 [==============================] - 21s 13ms/step - loss: 0.6796 - accuracy: 0.7637\n",
      "Epoch 10/10\n",
      "1563/1563 [==============================] - 22s 14ms/step - loss: 0.6471 - accuracy: 0.7730\n"
     ]
    },
    {
     "data": {
      "text/plain": [
       "<tensorflow.python.keras.callbacks.History at 0x26559055da0>"
      ]
     },
     "execution_count": 45,
     "metadata": {},
     "output_type": "execute_result"
    }
   ],
   "source": [
    "cnn.fit(x_train, y_train, epochs=10)"
   ]
  },
  {
   "cell_type": "code",
   "execution_count": 47,
   "id": "42a4a510",
   "metadata": {},
   "outputs": [
    {
     "name": "stdout",
     "output_type": "stream",
     "text": [
      "Classification Report: \n",
      "               precision    recall  f1-score   support\n",
      "\n",
      "    airplane       0.66      0.81      0.73      1000\n",
      "  automobile       0.83      0.80      0.81      1000\n",
      "        bird       0.60      0.59      0.60      1000\n",
      "         cat       0.61      0.39      0.47      1000\n",
      "        deer       0.57      0.76      0.65      1000\n",
      "         dog       0.59      0.63      0.61      1000\n",
      "        frog       0.83      0.76      0.79      1000\n",
      "       horse       0.73      0.76      0.75      1000\n",
      "        ship       0.80      0.77      0.79      1000\n",
      "       truck       0.83      0.74      0.78      1000\n",
      "\n",
      "    accuracy                           0.70     10000\n",
      "   macro avg       0.71      0.70      0.70     10000\n",
      "weighted avg       0.71      0.70      0.70     10000\n",
      "\n"
     ]
    }
   ],
   "source": [
    "from sklearn.metrics import confusion_matrix , classification_report\n",
    "import numpy as np\n",
    "y_pred = cnn.predict(x_test)\n",
    "y_pred_classes = [np.argmax(element) for element in y_pred]\n",
    "\n",
    "print(\"Classification Report: \\n\", classification_report(y_test, y_pred_classes,target_names = classes))"
   ]
  },
  {
   "cell_type": "code",
   "execution_count": 49,
   "id": "510874c2",
   "metadata": {},
   "outputs": [
    {
     "name": "stdout",
     "output_type": "stream",
     "text": [
      "313/313 [==============================] - 1s 3ms/step - loss: 0.9182 - accuracy: 0.6995\n"
     ]
    },
    {
     "data": {
      "text/plain": [
       "[0.9182299971580505, 0.6995000243186951]"
      ]
     },
     "execution_count": 49,
     "metadata": {},
     "output_type": "execute_result"
    }
   ],
   "source": [
    "cnn.evaluate(x_test,y_test)"
   ]
  },
  {
   "cell_type": "markdown",
   "id": "cabd42ae",
   "metadata": {},
   "source": [
    "#### By seeing the accuracy of the models we can clearly say that CNN gives much better results than ANN while dealing with <br>\n",
    "#### image models & also the ANN takes more computational power but it is compromised in CNN due to maxpooling layers."
   ]
  },
  {
   "cell_type": "code",
   "execution_count": null,
   "id": "d21f78d2",
   "metadata": {},
   "outputs": [],
   "source": []
  }
 ],
 "metadata": {
  "kernelspec": {
   "display_name": "Python 3",
   "language": "python",
   "name": "python3"
  },
  "language_info": {
   "codemirror_mode": {
    "name": "ipython",
    "version": 3
   },
   "file_extension": ".py",
   "mimetype": "text/x-python",
   "name": "python",
   "nbconvert_exporter": "python",
   "pygments_lexer": "ipython3",
   "version": "3.6.13"
  }
 },
 "nbformat": 4,
 "nbformat_minor": 5
}
